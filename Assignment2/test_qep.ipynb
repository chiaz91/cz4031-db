{
 "cells": [
  {
   "cell_type": "code",
   "execution_count": 1,
   "id": "c6b6da25",
   "metadata": {},
   "outputs": [],
   "source": [
    "import psycopg2 # need install\n",
    "import json"
   ]
  },
  {
   "cell_type": "code",
   "execution_count": 2,
   "id": "afb8c8bf",
   "metadata": {},
   "outputs": [],
   "source": [
    "# loading from config file\n",
    "with open(\"config.json\", \"r\") as file:\n",
    "    config = json.load(file)\n"
   ]
  },
  {
   "cell_type": "code",
   "execution_count": 3,
   "id": "1612037a",
   "metadata": {},
   "outputs": [
    {
     "name": "stdout",
     "output_type": "stream",
     "text": [
      "Connected to database db4031 sucessfully!\n"
     ]
    }
   ],
   "source": [
    "db_config = config[\"db\"]\n",
    "conn = psycopg2.connect(\n",
    "            host=db_config[\"host\"],\n",
    "            dbname=db_config[\"dbname\"],\n",
    "            user=db_config[\"user\"],\n",
    "            password=db_config[\"pwd\"]\n",
    "    )\n",
    "if conn:\n",
    "    print(\"Connected to database %s sucessfully!\" % db_config[\"dbname\"])\n",
    "else:\n",
    "    print(\"Connection failed.\")"
   ]
  },
  {
   "cell_type": "markdown",
   "id": "57ddcefa",
   "metadata": {},
   "source": [
    "```python\n",
    "#query with template\n",
    "query_temp = \"SELECT * FROM nation WHERE nation.n_regionkey = %s;\"\n",
    "vals = (1,)\n",
    "query = cursor.mogrify(query_temp, vals)\n",
    "```"
   ]
  },
  {
   "cell_type": "markdown",
   "id": "7e2f10f7",
   "metadata": {},
   "source": [
    "```python\n",
    "# Explain params?\n",
    "cursor.execute(\"EXPLAIN (analyze, buffers, verbose, format json) \" + query)\n",
    "cursor.execute(\"EXPLAIN (FORMAT JSON) \" + query)\n",
    "```"
   ]
  },
  {
   "cell_type": "code",
   "execution_count": 4,
   "id": "5d03593a",
   "metadata": {},
   "outputs": [],
   "source": [
    "if conn:\n",
    "    cursor = conn.cursor()\n",
    "    query = \"SELECT * FROM customer as c, nation as n  WHERE c.c_nationkey = n.n_nationkey\"\n",
    "    cursor.execute(\"EXPLAIN (FORMAT JSON) \" + query)\n",
    "    plan = cursor.fetchall()"
   ]
  },
  {
   "cell_type": "code",
   "execution_count": 5,
   "id": "e537ff78",
   "metadata": {},
   "outputs": [
    {
     "data": {
      "text/plain": [
       "[([{'Plan': {'Node Type': 'Hash Join',\n",
       "     'Parallel Aware': False,\n",
       "     'Async Capable': False,\n",
       "     'Join Type': 'Inner',\n",
       "     'Startup Cost': 13.82,\n",
       "     'Total Cost': 5499.39,\n",
       "     'Plan Rows': 150000,\n",
       "     'Plan Width': 593,\n",
       "     'Inner Unique': True,\n",
       "     'Hash Cond': '(c.c_nationkey = n.n_nationkey)',\n",
       "     'Plans': [{'Node Type': 'Seq Scan',\n",
       "       'Parent Relationship': 'Outer',\n",
       "       'Parallel Aware': False,\n",
       "       'Async Capable': False,\n",
       "       'Relation Name': 'customer',\n",
       "       'Alias': 'c',\n",
       "       'Startup Cost': 0.0,\n",
       "       'Total Cost': 5082.0,\n",
       "       'Plan Rows': 150000,\n",
       "       'Plan Width': 159},\n",
       "      {'Node Type': 'Hash',\n",
       "       'Parent Relationship': 'Inner',\n",
       "       'Parallel Aware': False,\n",
       "       'Async Capable': False,\n",
       "       'Startup Cost': 11.7,\n",
       "       'Total Cost': 11.7,\n",
       "       'Plan Rows': 170,\n",
       "       'Plan Width': 434,\n",
       "       'Plans': [{'Node Type': 'Seq Scan',\n",
       "         'Parent Relationship': 'Outer',\n",
       "         'Parallel Aware': False,\n",
       "         'Async Capable': False,\n",
       "         'Relation Name': 'nation',\n",
       "         'Alias': 'n',\n",
       "         'Startup Cost': 0.0,\n",
       "         'Total Cost': 11.7,\n",
       "         'Plan Rows': 170,\n",
       "         'Plan Width': 434}]}]}}],)]"
      ]
     },
     "execution_count": 5,
     "metadata": {},
     "output_type": "execute_result"
    }
   ],
   "source": [
    "plan"
   ]
  },
  {
   "cell_type": "code",
   "execution_count": null,
   "id": "beca5412",
   "metadata": {},
   "outputs": [],
   "source": []
  }
 ],
 "metadata": {
  "kernelspec": {
   "display_name": "Python 3",
   "language": "python",
   "name": "python3"
  },
  "language_info": {
   "codemirror_mode": {
    "name": "ipython",
    "version": 3
   },
   "file_extension": ".py",
   "mimetype": "text/x-python",
   "name": "python",
   "nbconvert_exporter": "python",
   "pygments_lexer": "ipython3",
   "version": "3.8.8"
  }
 },
 "nbformat": 4,
 "nbformat_minor": 5
}
