{
 "cells": [
  {
   "cell_type": "code",
   "execution_count": 1,
   "id": "6faffc5b",
   "metadata": {
    "tags": []
   },
   "outputs": [],
   "source": [
    "from glob import glob\n",
    "import os\n",
    "import pandas"
   ]
  },
  {
   "cell_type": "code",
   "execution_count": 2,
   "id": "d4f7cc8f",
   "metadata": {
    "tags": []
   },
   "outputs": [
    {
     "name": "stdout",
     "output_type": "stream",
     "text": [
      "Searching for .tbl data files...\n",
      "1: source\\customer.tbl\n",
      "2: source\\lineitem.tbl\n",
      "3: source\\nation.tbl\n",
      "4: source\\orders.tbl\n",
      "5: source\\part.tbl\n",
      "6: source\\partsupp.tbl\n",
      "7: source\\region.tbl\n",
      "8: source\\supplier.tbl\n",
      "Total 8 files found!\n",
      "\n"
     ]
    }
   ],
   "source": [
    "# search .tbl files under same directory\n",
    "files = [f for f in glob(\"*/*.tbl\", recursive=True) if not os.path.isdir(f)]\n",
    "\n",
    "print(\"Searching for .tbl data files...\")\n",
    "for i, f in enumerate(files):\n",
    "    print(\"{}: {}\".format(i+1, f) )\n",
    "print(\"Total {} files found!\\n\".format(len(files)))"
   ]
  },
  {
   "cell_type": "code",
   "execution_count": 3,
   "id": "7e170b3c",
   "metadata": {
    "tags": []
   },
   "outputs": [
    {
     "name": "stdout",
     "output_type": "stream",
     "text": [
      "File conversion from .tbl to .csv\n",
      "converting source\\customer.tbl       records: 150,000\n",
      "converting source\\lineitem.tbl       records: 6,001,215\n",
      "converting source\\nation.tbl         records: 25\n",
      "converting source\\orders.tbl         records: 1,500,000\n",
      "converting source\\part.tbl           records: 200,000\n",
      "converting source\\partsupp.tbl       records: 800,000\n",
      "converting source\\region.tbl         records: 5\n",
      "converting source\\supplier.tbl       records: 10,000\n",
      "completed\n"
     ]
    }
   ],
   "source": [
    "# attemp convert .tbl files into .csv files \n",
    "print(\"File conversion from .tbl to .csv\")\n",
    "for file in files:\n",
    "    print(\"converting {:<25} \".format(file), end = '')\n",
    "    # read tbl file as panda DataFrame\n",
    "    data = pandas.read_table(file, header=None,  delimiter=\"|\", skipinitialspace=True)\n",
    "    data = data.iloc[:, :-1] # remove extra column\n",
    "    print(\"records: {:,}\".format(len(data.index)))\n",
    "    \n",
    "    # save it as csv file\n",
    "    filename, ext = os.path.basename(file).split(\".\")\n",
    "    output_path = os.path.join(\"output\", filename+\".csv\")\n",
    "    os.makedirs(os.path.dirname(output_path), exist_ok=True)\n",
    "    data.to_csv(output_path, index=False, header=False)\n",
    "\n",
    "print(\"completed\")"
   ]
  },
  {
   "cell_type": "code",
   "execution_count": null,
   "id": "2a71f8b6",
   "metadata": {},
   "outputs": [],
   "source": []
  }
 ],
 "metadata": {
  "kernelspec": {
   "display_name": "Python 3",
   "language": "python",
   "name": "python3"
  },
  "language_info": {
   "codemirror_mode": {
    "name": "ipython",
    "version": 3
   },
   "file_extension": ".py",
   "mimetype": "text/x-python",
   "name": "python",
   "nbconvert_exporter": "python",
   "pygments_lexer": "ipython3",
   "version": "3.8.8"
  }
 },
 "nbformat": 4,
 "nbformat_minor": 5
}
