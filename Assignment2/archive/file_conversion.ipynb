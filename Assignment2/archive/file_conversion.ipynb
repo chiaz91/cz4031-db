{
 "cells": [
  {
   "cell_type": "code",
   "execution_count": 1,
   "id": "fc27ae65",
   "metadata": {},
   "outputs": [],
   "source": [
    "from glob import glob\n",
    "import os\n",
    "import pandas"
   ]
  },
  {
   "cell_type": "code",
   "execution_count": 2,
   "id": "0d6e441a",
   "metadata": {},
   "outputs": [
    {
     "name": "stdout",
     "output_type": "stream",
     "text": [
      "['source\\\\customer.tbl', 'source\\\\lineitem.tbl', 'source\\\\nation.tbl', 'source\\\\orders.tbl', 'source\\\\part.tbl', 'source\\\\partsupp.tbl', 'source\\\\region.tbl', 'source\\\\supplier.tbl']\n",
      "8 files found!\n"
     ]
    }
   ],
   "source": [
    "# search .tbl files under same directory\n",
    "files = [f for f in glob(\"*/*.tbl\", recursive=True) if not os.path.isdir(f)]\n",
    "print(files)\n",
    "print(\"{} files found!\".format(len(files)))"
   ]
  },
  {
   "cell_type": "code",
   "execution_count": 3,
   "id": "af4b3ee0",
   "metadata": {},
   "outputs": [
    {
     "name": "stdout",
     "output_type": "stream",
     "text": [
      "File conversion from .tbl to .csv\n",
      "converting source\\customer.tbl...\n",
      "converting source\\lineitem.tbl...\n",
      "converting source\\nation.tbl...\n",
      "converting source\\orders.tbl...\n",
      "converting source\\part.tbl...\n",
      "converting source\\partsupp.tbl...\n",
      "converting source\\region.tbl...\n",
      "converting source\\supplier.tbl...\n",
      "completed\n"
     ]
    }
   ],
   "source": [
    "# attemp convert .tbl files into .csv files \n",
    "print(\"File conversion from .tbl to .csv\")\n",
    "for file in files:\n",
    "    print(\"converting {}...\".format(file))\n",
    "    # read tbl file as panda DataFrame\n",
    "    data = pandas.read_table(file, header=None,  delimiter=\"|\", skipinitialspace=True)\n",
    "    data = data.iloc[:, :-1] # remove extra column\n",
    "    \n",
    "    # save it as csv file\n",
    "    filename, ext = os.path.basename(file).split(\".\")\n",
    "    output_path = os.path.join(\"output\", filename+\".csv\")\n",
    "    os.makedirs(os.path.dirname(output_path), exist_ok=True)\n",
    "    data.to_csv(output_path, index=False)\n",
    "\n",
    "print(\"completed\")"
   ]
  },
  {
   "cell_type": "code",
   "execution_count": null,
   "id": "fa57d7f9",
   "metadata": {},
   "outputs": [],
   "source": []
  }
 ],
 "metadata": {
  "kernelspec": {
   "display_name": "Python 3",
   "language": "python",
   "name": "python3"
  },
  "language_info": {
   "codemirror_mode": {
    "name": "ipython",
    "version": 3
   },
   "file_extension": ".py",
   "mimetype": "text/x-python",
   "name": "python",
   "nbconvert_exporter": "python",
   "pygments_lexer": "ipython3",
   "version": "3.8.8"
  }
 },
 "nbformat": 4,
 "nbformat_minor": 5
}
