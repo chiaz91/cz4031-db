{
 "cells": [
  {
   "cell_type": "code",
   "execution_count": 1,
   "id": "c6b6da25",
   "metadata": {},
   "outputs": [],
   "source": [
    "import psycopg2 # need install\n",
    "import json\n",
    "from annotation import Annotator"
   ]
  },
  {
   "cell_type": "code",
   "execution_count": 2,
   "id": "afb8c8bf",
   "metadata": {},
   "outputs": [],
   "source": [
    "# loading from config file\n",
    "with open(\"config.json\", \"r\") as file:\n",
    "    config = json.load(file)\n"
   ]
  },
  {
   "cell_type": "code",
   "execution_count": 3,
   "id": "1612037a",
   "metadata": {},
   "outputs": [
    {
     "name": "stdout",
     "output_type": "stream",
     "text": [
      "Connected to database db4031 sucessfully!\n"
     ]
    }
   ],
   "source": [
    "db_config = config[\"db\"]\n",
    "conn = psycopg2.connect(\n",
    "            host=db_config[\"host\"],\n",
    "            dbname=db_config[\"dbname\"],\n",
    "            user=db_config[\"user\"],\n",
    "            password=db_config[\"pwd\"]\n",
    "    )\n",
    "if conn:\n",
    "    print(\"Connected to database %s sucessfully!\" % db_config[\"dbname\"])\n",
    "else:\n",
    "    print(\"Connection failed.\")"
   ]
  },
  {
   "cell_type": "markdown",
   "id": "57ddcefa",
   "metadata": {},
   "source": [
    "```python\n",
    "#query with template\n",
    "query_temp = \"SELECT * FROM nation WHERE nation.n_regionkey = %s;\"\n",
    "vals = (1,)\n",
    "query = cursor.mogrify(query_temp, vals)\n",
    "```"
   ]
  },
  {
   "cell_type": "markdown",
   "id": "7e2f10f7",
   "metadata": {},
   "source": [
    "```python\n",
    "# Explain params?\n",
    "cursor.execute(\"EXPLAIN (analyze, buffers, verbose, format json) \" + query)\n",
    "cursor.execute(\"EXPLAIN (FORMAT JSON) \" + query)\n",
    "```"
   ]
  },
  {
   "cell_type": "code",
   "execution_count": 4,
   "id": "5d03593a",
   "metadata": {},
   "outputs": [],
   "source": [
    "if conn:\n",
    "    cursor = conn.cursor()\n",
    "    query = \"SELECT COUNT(c.c_custkey) FROM customer as c, nation as n  WHERE c.c_nationkey = n.n_nationkey\"\n",
    "    cursor.execute(\"EXPLAIN (FORMAT JSON)\" + query)\n",
    "    plans = cursor.fetchall()"
   ]
  },
  {
   "cell_type": "code",
   "execution_count": 5,
   "id": "e537ff78",
   "metadata": {},
   "outputs": [
    {
     "data": {
      "text/plain": [
       "[([{'Plan': {'Node Type': 'Aggregate',\n",
       "     'Strategy': 'Plain',\n",
       "     'Partial Mode': 'Finalize',\n",
       "     'Parallel Aware': False,\n",
       "     'Async Capable': False,\n",
       "     'Startup Cost': 5545.45,\n",
       "     'Total Cost': 5545.46,\n",
       "     'Plan Rows': 1,\n",
       "     'Plan Width': 8,\n",
       "     'Plans': [{'Node Type': 'Gather',\n",
       "       'Parent Relationship': 'Outer',\n",
       "       'Parallel Aware': False,\n",
       "       'Async Capable': False,\n",
       "       'Startup Cost': 5545.23,\n",
       "       'Total Cost': 5545.44,\n",
       "       'Plan Rows': 2,\n",
       "       'Plan Width': 8,\n",
       "       'Workers Planned': 2,\n",
       "       'Single Copy': False,\n",
       "       'Plans': [{'Node Type': 'Aggregate',\n",
       "         'Strategy': 'Plain',\n",
       "         'Partial Mode': 'Partial',\n",
       "         'Parent Relationship': 'Outer',\n",
       "         'Parallel Aware': False,\n",
       "         'Async Capable': False,\n",
       "         'Startup Cost': 4545.23,\n",
       "         'Total Cost': 4545.24,\n",
       "         'Plan Rows': 1,\n",
       "         'Plan Width': 8,\n",
       "         'Plans': [{'Node Type': 'Hash Join',\n",
       "           'Parent Relationship': 'Outer',\n",
       "           'Parallel Aware': False,\n",
       "           'Async Capable': False,\n",
       "           'Join Type': 'Inner',\n",
       "           'Startup Cost': 13.82,\n",
       "           'Total Cost': 4388.98,\n",
       "           'Plan Rows': 62500,\n",
       "           'Plan Width': 4,\n",
       "           'Inner Unique': True,\n",
       "           'Hash Cond': '(c.c_nationkey = n.n_nationkey)',\n",
       "           'Plans': [{'Node Type': 'Seq Scan',\n",
       "             'Parent Relationship': 'Outer',\n",
       "             'Parallel Aware': True,\n",
       "             'Async Capable': False,\n",
       "             'Relation Name': 'customer',\n",
       "             'Alias': 'c',\n",
       "             'Startup Cost': 0.0,\n",
       "             'Total Cost': 4207.0,\n",
       "             'Plan Rows': 62500,\n",
       "             'Plan Width': 8},\n",
       "            {'Node Type': 'Hash',\n",
       "             'Parent Relationship': 'Inner',\n",
       "             'Parallel Aware': False,\n",
       "             'Async Capable': False,\n",
       "             'Startup Cost': 11.7,\n",
       "             'Total Cost': 11.7,\n",
       "             'Plan Rows': 170,\n",
       "             'Plan Width': 4,\n",
       "             'Plans': [{'Node Type': 'Seq Scan',\n",
       "               'Parent Relationship': 'Outer',\n",
       "               'Parallel Aware': False,\n",
       "               'Async Capable': False,\n",
       "               'Relation Name': 'nation',\n",
       "               'Alias': 'n',\n",
       "               'Startup Cost': 0.0,\n",
       "               'Total Cost': 11.7,\n",
       "               'Plan Rows': 170,\n",
       "               'Plan Width': 4}]}]}]}]}]}}],)]"
      ]
     },
     "execution_count": 5,
     "metadata": {},
     "output_type": "execute_result"
    }
   ],
   "source": [
    "plans"
   ]
  },
  {
   "cell_type": "code",
   "execution_count": 6,
   "metadata": {},
   "outputs": [],
   "source": [
    "x = Annotator()"
   ]
  },
  {
   "cell_type": "code",
   "execution_count": 7,
   "metadata": {},
   "outputs": [
    {
     "name": "stdout",
     "output_type": "stream",
     "text": [
      "Step 1: Perform sequential scan on table customer as c. \n",
      "Step 2: Perform sequential scan on table nation as n. \n",
      "Step 3: Perform hashing on table nation. \n",
      "Step 4: Perform a hash join on tables customer and nation under the condition (c.c_nationkey = n.n_nationkey) to get intermediate table T1. \n",
      "Step 5: Perform aggregate on table T1 to get intermediate table T2. \n",
      "Step 6: Perform gather on table T2 to get intermediate table T3. \n",
      "Step 7: Perform aggregate on table T3 to get the final result.\n"
     ]
    }
   ],
   "source": [
    "print(x.wrapper(plans))"
   ]
  }
 ],
 "metadata": {
  "interpreter": {
   "hash": "2db524e06e9f5f4ffedc911c917cb75e12dbc923643829bf417064a77eb14d37"
  },
  "kernelspec": {
   "display_name": "Python 3.8.5 64-bit",
   "name": "python3"
  },
  "language_info": {
   "codemirror_mode": {
    "name": "ipython",
    "version": 3
   },
   "file_extension": ".py",
   "mimetype": "text/x-python",
   "name": "python",
   "nbconvert_exporter": "python",
   "pygments_lexer": "ipython3",
   "version": "3.8.5"
  }
 },
 "nbformat": 4,
 "nbformat_minor": 5
}
