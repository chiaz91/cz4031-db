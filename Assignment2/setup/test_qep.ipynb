{
 "cells": [
  {
   "cell_type": "code",
   "execution_count": 1,
   "id": "c6b6da25",
   "metadata": {},
   "outputs": [],
   "source": [
    "import psycopg2 # need install\n",
    "import json\n",
    "from annotation import Annotator"
   ]
  },
  {
   "cell_type": "code",
   "execution_count": 2,
   "id": "afb8c8bf",
   "metadata": {},
   "outputs": [],
   "source": [
    "# loading from config file\n",
    "with open(\"config.json\", \"r\") as file:\n",
    "    config = json.load(file)\n"
   ]
  },
  {
   "cell_type": "code",
   "execution_count": 3,
   "id": "1612037a",
   "metadata": {},
   "outputs": [
    {
     "name": "stdout",
     "output_type": "stream",
     "text": [
      "Connected to database db4031 sucessfully!\n"
     ]
    }
   ],
   "source": [
    "db_config = config[\"db\"]\n",
    "conn = psycopg2.connect(\n",
    "            host=db_config[\"host\"],\n",
    "            dbname=db_config[\"dbname\"],\n",
    "            user=db_config[\"user\"],\n",
    "            password=db_config[\"pwd\"]\n",
    "    )\n",
    "if conn:\n",
    "    print(\"Connected to database %s sucessfully!\" % db_config[\"dbname\"])\n",
    "else:\n",
    "    print(\"Connection failed.\")"
   ]
  },
  {
   "cell_type": "markdown",
   "id": "57ddcefa",
   "metadata": {},
   "source": [
    "```python\n",
    "#query with template\n",
    "query_temp = \"SELECT * FROM nation WHERE nation.n_regionkey = %s;\"\n",
    "vals = (1,)\n",
    "query = cursor.mogrify(query_temp, vals)\n",
    "```"
   ]
  },
  {
   "cell_type": "markdown",
   "id": "7e2f10f7",
   "metadata": {},
   "source": [
    "```python\n",
    "# Explain params?\n",
    "cursor.execute(\"EXPLAIN (analyze, buffers, verbose, format json) \" + query)\n",
    "cursor.execute(\"EXPLAIN (FORMAT JSON) \" + query)\n",
    "```"
   ]
  },
  {
   "cell_type": "code",
   "execution_count": 4,
   "id": "5d03593a",
   "metadata": {},
   "outputs": [],
   "source": [
    "if conn:\n",
    "    cursor = conn.cursor()\n",
    "    query = \"SELECT * FROM customer c, orders o WHERE c.c_custkey = o.o_custkey ORDER BY c.c_custkey\"\n",
    "    cursor.execute(\"EXPLAIN (FORMAT JSON)\" + query)\n",
    "    plans = cursor.fetchall()"
   ]
  },
  {
   "cell_type": "code",
   "execution_count": 5,
   "id": "e537ff78",
   "metadata": {},
   "outputs": [
    {
     "data": {
      "text/plain": [
       "[([{'Plan': {'Node Type': 'Merge Join',\n",
       "     'Parallel Aware': False,\n",
       "     'Async Capable': False,\n",
       "     'Join Type': 'Inner',\n",
       "     'Startup Cost': 166134.47,\n",
       "     'Total Cost': 367414.5,\n",
       "     'Plan Rows': 1500000,\n",
       "     'Plan Width': 266,\n",
       "     'Inner Unique': True,\n",
       "     'Merge Cond': '(o.o_custkey = c.c_custkey)',\n",
       "     'Plans': [{'Node Type': 'Gather Merge',\n",
       "       'Parent Relationship': 'Outer',\n",
       "       'Parallel Aware': False,\n",
       "       'Async Capable': False,\n",
       "       'Startup Cost': 166116.2,\n",
       "       'Total Cost': 340815.92,\n",
       "       'Plan Rows': 1500000,\n",
       "       'Plan Width': 107,\n",
       "       'Workers Planned': 2,\n",
       "       'Plans': [{'Node Type': 'Sort',\n",
       "         'Parent Relationship': 'Outer',\n",
       "         'Parallel Aware': False,\n",
       "         'Async Capable': False,\n",
       "         'Startup Cost': 165116.18,\n",
       "         'Total Cost': 166678.68,\n",
       "         'Plan Rows': 625000,\n",
       "         'Plan Width': 107,\n",
       "         'Sort Key': ['o.o_custkey'],\n",
       "         'Plans': [{'Node Type': 'Seq Scan',\n",
       "           'Parent Relationship': 'Outer',\n",
       "           'Parallel Aware': True,\n",
       "           'Async Capable': False,\n",
       "           'Relation Name': 'orders',\n",
       "           'Alias': 'o',\n",
       "           'Startup Cost': 0.0,\n",
       "           'Total Cost': 32317.0,\n",
       "           'Plan Rows': 625000,\n",
       "           'Plan Width': 107}]}]},\n",
       "      {'Node Type': 'Index Scan',\n",
       "       'Parent Relationship': 'Inner',\n",
       "       'Parallel Aware': False,\n",
       "       'Async Capable': False,\n",
       "       'Scan Direction': 'Forward',\n",
       "       'Index Name': 'customer_pkey',\n",
       "       'Relation Name': 'customer',\n",
       "       'Alias': 'c',\n",
       "       'Startup Cost': 0.42,\n",
       "       'Total Cost': 7491.42,\n",
       "       'Plan Rows': 150000,\n",
       "       'Plan Width': 159}]}}],)]"
      ]
     },
     "execution_count": 5,
     "metadata": {},
     "output_type": "execute_result"
    }
   ],
   "source": [
    "plans"
   ]
  },
  {
   "cell_type": "code",
   "execution_count": 6,
   "metadata": {},
   "outputs": [],
   "source": [
    "x = Annotator()"
   ]
  },
  {
   "cell_type": "code",
   "execution_count": 7,
   "metadata": {},
   "outputs": [
    {
     "name": "stdout",
     "output_type": "stream",
     "text": [
      "Step 1: Perform sequential scan on table orders as o. \n",
      "Step 2: Perform a sort on table orders with sort key ['o.o_custkey']. \n",
      "Step 3: The results of the previous operation are gathered and merged. \n",
      "Step 4: Perform index scan on table customer as c using index on customer_pkey. \n",
      "Step 5: Perform a merge join on tables orders and customer under the condition (o.o_custkey = c.c_custkey). \n",
      " to get the final result.\n"
     ]
    }
   ],
   "source": [
    "print(x.wrapper(plans))"
   ]
  }
 ],
 "metadata": {
  "interpreter": {
   "hash": "2db524e06e9f5f4ffedc911c917cb75e12dbc923643829bf417064a77eb14d37"
  },
  "kernelspec": {
   "display_name": "Python 3.8.5 64-bit",
   "name": "python3"
  },
  "language_info": {
   "codemirror_mode": {
    "name": "ipython",
    "version": 3
   },
   "file_extension": ".py",
   "mimetype": "text/x-python",
   "name": "python",
   "nbconvert_exporter": "python",
   "pygments_lexer": "ipython3",
   "version": "3.8.5"
  }
 },
 "nbformat": 4,
 "nbformat_minor": 5
}
